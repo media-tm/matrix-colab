{
 "cells": [
  {
   "source": [
    "# numpy 起步\n",
    "\n",
    "## numpy 简介\n",
    "量化分析的工作涉及到大量的数值运算，一个高效方便的科学计算工具是必不可少的。NumPy是一个功能强大的Python库，主要用于对多维数组执行计算。NumPy这个词来源于两个单词-- Numerical和Python。NumPy提供了大量的库函数和操作。这类数值计算广泛用于以下任务：\n",
    "- 一个强大的N维数组对象。\n",
    "- 有用的线性代数，傅里叶变换和随机数功能。如数值积分、微分、内插、外推等。\n",
    "- 除了明显的科学用途外，NumPy还可以用作通用数据的高效多维容器。例如：机器学习模型、数字图像处理和计算机图形学等。"
   ],
   "cell_type": "code",
   "metadata": {},
   "execution_count": null,
   "outputs": []
  },
  {
   "source": [
    "## NumPy 经典资源\n",
    "\n",
    "- [NumPy官网](https://numpy.org/)\n",
    "- [知乎: CS231n课程笔记翻译：Python Numpy教程](https://zhuanlan.zhihu.com/p/20878530)\n",
    "- [程序员虾说: NumPy 系列教程](http://www.ysir308.com/archives/category/tutorial/NumPy-tutorial)"
   ],
   "cell_type": "code",
   "metadata": {},
   "execution_count": 3,
   "outputs": [
    {
     "output_type": "error",
     "ename": "SyntaxError",
     "evalue": "invalid syntax (<ipython-input-3-eacefe94b33b>, line 3)",
     "traceback": [
      "\u001b[1;36m  File \u001b[1;32m\"<ipython-input-3-eacefe94b33b>\"\u001b[1;36m, line \u001b[1;32m3\u001b[0m\n\u001b[1;33m    - [NumPy官网](https://numpy.org/)\u001b[0m\n\u001b[1;37m                     ^\u001b[0m\n\u001b[1;31mSyntaxError\u001b[0m\u001b[1;31m:\u001b[0m invalid syntax\n"
     ]
    }
   ]
  },
  {
   "cell_type": "markdown",
   "metadata": {},
   "source": [
    "## NumPy 中的数组\n",
    "\n",
    "NumPy提供的最重要的数据结构是NumPy数组对象。NumPy数组配备了大量的函数和运算符，是目前最流行的高性能数组计算库。"
   ]
  },
  {
   "cell_type": "code",
   "execution_count": 12,
   "metadata": {},
   "outputs": [
    {
     "name": "stdout",
     "output_type": "stream",
     "text": [
      "array vector: \n",
      " [1 2 3 4 5]\n",
      "(5,)\n",
      "zeros vector: \n",
      " [0. 0. 0. 0. 0.]\n",
      "random vector: \n",
      " [0.59762528 0.57345133 0.5707989  0.46930127 0.62413438]\n",
      "vector.sum(): \n",
      " 45\n",
      "vector.min(): \n",
      " 0\n",
      "vector.max(): \n",
      " 9\n",
      "vector.cumsum(): \n",
      " [ 0  1  3  6 10 15 21 28 36 45]\n"
     ]
    }
   ],
   "source": [
    "import numpy as np \n",
    "vector = np.array([1, 2, 3, 4, 5]) \n",
    "print('array vector: \\n',vector)\n",
    "print(vector.shape)\n",
    "\n",
    "vector = np.zeros((5))\n",
    "print('zeros vector: \\n',vector)\n",
    "\n",
    "vector = np.random.random((5))\n",
    "print('random vector: \\n',vector)\n",
    "\n",
    "# dot, sum, min, max, cumsum\n",
    "vector = np.arange(10)\n",
    "print('vector.sum(): \\n',vector.sum())   # >>>45\n",
    "print('vector.min(): \\n',vector.min())   # >>>0\n",
    "print('vector.max(): \\n',vector.max())   # >>>9\n",
    "print('vector.cumsum(): \\n',vector.cumsum()) # >>>[ 0  1  3  6 10 15 21 28 36 45]"
   ]
  },
  {
   "cell_type": "markdown",
   "metadata": {},
   "source": [
    "## NumPy 中的运算操作\n",
    "\n",
    "NumPy向量或者矩阵，能够在数组上执行加减乘除数学运算。"
   ]
  },
  {
   "cell_type": "code",
   "execution_count": 13,
   "metadata": {},
   "outputs": [
    {
     "name": "stdout",
     "output_type": "stream",
     "text": [
      "matrix.sum(): \n",
      " [[ 60.  80.]\n",
      " [100. 120.]]\n",
      "matrix.sub(): \n",
      " [[-40. -40.]\n",
      " [-40. -40.]]\n",
      "matrix.mul(): \n",
      " [[ 500. 1200.]\n",
      " [2100. 3200.]]\n",
      "matrix.div(): \n",
      " [[0.2        0.33333333]\n",
      " [0.42857143 0.5       ]]\n"
     ]
    }
   ],
   "source": [
    "import numpy as np \n",
    "matrix_a = np.array([[10.0, 20.0], [30.0, 40.0]]) \n",
    "matrix_b = np.array([[50.0, 60.0], [70.0, 80.0]]) \n",
    "print ('matrix.sum(): \\n',matrix_a + matrix_b)\n",
    "print ('matrix.sub(): \\n',matrix_a - matrix_b)\n",
    "print ('matrix.mul(): \\n',matrix_a * matrix_b)\n",
    "print ('matrix.div(): \\n',matrix_a / matrix_b)"
   ]
  },
  {
   "cell_type": "code",
   "execution_count": null,
   "metadata": {},
   "outputs": [],
   "source": []
  }
 ],
 "metadata": {
  "kernelspec": {
   "name": "python394jvsc74a57bd013fdf25ef2beee923e1f1011635d38d6ce68fb2882c6a64f76de1420ab9cc9f4",
   "display_name": "Python 3.9.4 64-bit"
  },
  "language_info": {
   "codemirror_mode": {
    "name": "ipython",
    "version": 3
   },
   "file_extension": ".py",
   "mimetype": "text/x-python",
   "name": "python",
   "nbconvert_exporter": "python",
   "pygments_lexer": "ipython3",
   "version": "3.9.4-final"
  }
 },
 "nbformat": 4,
 "nbformat_minor": 4
}