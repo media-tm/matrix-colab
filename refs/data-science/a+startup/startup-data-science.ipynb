# 数据科学起步

## python环境维护

```python
安装pip
$ python pip install --upgrade pip
升级pip
$ python -m pip install --upgrade pip
pip常用命令
$ pip list                       # List installed packages
$ pip list -u                    # List uptodate packages
$ pip list -o                    # List outdated packages
$ pip install -U <package name>  # Upgrade specified package to the new version
$ pip show -f <package name>     # Show the list of files for target package

```

## 数据建模网站

- [专业全面的深度金融量化服务 -- 优矿社区](https://uqer.io/)

## 数据科学的知名库

在Python量化金融中，广泛使用的几个基础库是: numpy、scipy、pandas和matplotlib。

用于数据收集的python工程：

- Beautiful Soup
- Scrapy
- Selenium

用于数据清理和操作的python工程：

- Pandas
- NumPy
- Spacy

用于数据可视化的python工程：

- Matplotlib
- Seaborn

用于人工智能建模的python工程：

- Scikit-learn
- TensorFlow
- PyTorch

用于模型可解释性的python工程：

- Lime
- H2O

用于图像处理的python工程：

- OpenCV-Python
- Scikit-image
- Pillow