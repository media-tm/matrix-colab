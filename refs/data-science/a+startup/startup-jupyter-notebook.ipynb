# Jupter Notebook起步

有一套好的工具管理我的python工程是一件幸运的事情。这套工具我希望: 代码阅读和代码注释说明非常友好；python代码可执行。经过一番思考和搜索，我觉得Jupter Notebook基本满足我的需求。果断以Jupter开始我的数据科学冒险之旅。

# 安装Jupter

```python
install jupter with pip:
# first, always upgrade pip!
$ pip install --upgrade pip
$ pip install --upgrade ipython jupyter

Start the notebook in the tutorial directory:
$ cd ipython-in-depth
$ jupyter notebook
```

